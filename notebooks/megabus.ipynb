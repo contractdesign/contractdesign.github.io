{
 "cells": [
  {
   "cell_type": "markdown",
   "metadata": {},
   "source": [
    "# Megabus Bus Fares"
   ]
  },
  {
   "cell_type": "code",
   "execution_count": 75,
   "metadata": {
    "tags": [
     "parameters"
    ]
   },
   "outputs": [],
   "source": [
    "origin = 'DC'\n",
    "destination = 'NYC'"
   ]
  },
  {
   "cell_type": "code",
   "execution_count": 76,
   "metadata": {},
   "outputs": [],
   "source": [
    "#papermill_description=define_functions\n",
    "import pandas\n",
    "import requests\n",
    "import datetime\n",
    "\n",
    "def get_id(name):\n",
    "    d_name_to_id = { 'NYC': 123,       \n",
    "        'Philadelphia': 127,      \n",
    "        'Baltimore':   143,\n",
    "        'VA Beach': 475,\n",
    "        'DC': 142 }\n",
    "\n",
    "    return d_name_to_id[name]\n",
    "\n",
    "def compute_date(delta=0):\n",
    "    \"\"\"return date 'delta' days from now in format %Y-%m-%d, e.g., 2022-12-02\"\"\"\n",
    "    now = datetime.datetime.now()\n",
    "    dt = now + datetime.timedelta(days=delta)\n",
    "    return dt.strftime('%Y-%m-%d')\n",
    "\n",
    "def get_data(departure_date, origin, destination):\n",
    "\n",
    "    origin_id = get_id(origin)\n",
    "    destination_id = get_id(destination)\n",
    "\n",
    "    \"\"\"returns a dataframe from megabus with the rides on the indicated departure_date\"\"\"\n",
    "    # need to override default requests header otherwise Megabus will categorize the request as a bot\n",
    "    headers = { 'User-Agent': 'Mozilla/5.1'}\n",
    "    url_path = 'https://us.megabus.com/journey-planner/api/journeys'\n",
    "    r = requests.get( f'{url_path}?originId={origin_id}&destinationId={destination_id}&departureDate={departure_date}&totalPassengers=1&concessionCount=0&nusCount=0&otherDisabilityCount=0&wheelchairSeated=0&pcaCount=0&days=1')\n",
    "\n",
    "    # fix dataframe\n",
    "    df = pandas.DataFrame(r.json()['journeys'])\n",
    "    df.set_index('journeyId', inplace=True)\n",
    "    df.drop(['legs', 'origin', 'destination', 'reservableType', 'lowStockCount', 'routeName',  'duration', 'serviceInformation', 'promotionCodeStatus'], axis=1, inplace=True)\n",
    "    df['origin'] = origin\n",
    "    df['destination'] = destination\n",
    "\n",
    "    df.departureDateTime = pandas.to_datetime(df.departureDateTime)\n",
    "    df.arrivalDateTime = pandas.to_datetime(df.arrivalDateTime)\n",
    "\n",
    "    df.price = df.price.astype(str).astype(float)\n",
    "\n",
    "    # re-order columns\n",
    "    df = df[['origin', 'destination', 'departureDateTime', 'arrivalDateTime', 'price']]\n",
    "\n",
    "    return df"
   ]
  },
  {
   "cell_type": "code",
   "execution_count": 77,
   "metadata": {},
   "outputs": [],
   "source": [
    "# fetch round trip data\n",
    "\n",
    "df = pandas.DataFrame()\n",
    "\n",
    "\n",
    "for i in range(0, 65):\n",
    "    try:\n",
    "        df = pandas.concat([df, get_data(compute_date(i), origin, destination)], axis=0)\n",
    "        df = pandas.concat([df, get_data(compute_date(i), destination, origin)], axis=0)\n",
    "    except:\n",
    "        break\n",
    "\n",
    "max_day = i\n",
    "# df"
   ]
  },
  {
   "cell_type": "markdown",
   "metadata": {},
   "source": [
    "## Fare Analysis"
   ]
  },
  {
   "cell_type": "code",
   "execution_count": 78,
   "metadata": {},
   "outputs": [
    {
     "name": "stdout",
     "output_type": "stream",
     "text": [
      "Analyzing fares between DC and NYC for the next 45 days\n"
     ]
    }
   ],
   "source": [
    "print(f'Analyzing fares between {origin} and {destination} for the next {max_day} days')"
   ]
  },
  {
   "cell_type": "markdown",
   "metadata": {},
   "source": [
    "### Fares < $10"
   ]
  },
  {
   "cell_type": "code",
   "execution_count": 79,
   "metadata": {},
   "outputs": [
    {
     "data": {
      "text/html": [
       "<div>\n",
       "<style scoped>\n",
       "    .dataframe tbody tr th:only-of-type {\n",
       "        vertical-align: middle;\n",
       "    }\n",
       "\n",
       "    .dataframe tbody tr th {\n",
       "        vertical-align: top;\n",
       "    }\n",
       "\n",
       "    .dataframe thead th {\n",
       "        text-align: right;\n",
       "    }\n",
       "</style>\n",
       "<table border=\"1\" class=\"dataframe\">\n",
       "  <thead>\n",
       "    <tr style=\"text-align: right;\">\n",
       "      <th></th>\n",
       "      <th>origin</th>\n",
       "      <th>destination</th>\n",
       "      <th>departureDateTime</th>\n",
       "      <th>arrivalDateTime</th>\n",
       "      <th>price</th>\n",
       "    </tr>\n",
       "    <tr>\n",
       "      <th>journeyId</th>\n",
       "      <th></th>\n",
       "      <th></th>\n",
       "      <th></th>\n",
       "      <th></th>\n",
       "      <th></th>\n",
       "    </tr>\n",
       "  </thead>\n",
       "  <tbody>\n",
       "    <tr>\n",
       "      <th>19903121</th>\n",
       "      <td>NYC</td>\n",
       "      <td>DC</td>\n",
       "      <td>2022-12-31 18:00:00</td>\n",
       "      <td>2022-12-31 22:30:00</td>\n",
       "      <td>1.0</td>\n",
       "    </tr>\n",
       "    <tr>\n",
       "      <th>19903505</th>\n",
       "      <td>NYC</td>\n",
       "      <td>DC</td>\n",
       "      <td>2022-12-31 21:30:00</td>\n",
       "      <td>2023-01-01 01:50:00</td>\n",
       "      <td>1.0</td>\n",
       "    </tr>\n",
       "    <tr>\n",
       "      <th>19899024</th>\n",
       "      <td>NYC</td>\n",
       "      <td>DC</td>\n",
       "      <td>2023-01-09 06:00:00</td>\n",
       "      <td>2023-01-09 10:20:00</td>\n",
       "      <td>1.0</td>\n",
       "    </tr>\n",
       "  </tbody>\n",
       "</table>\n",
       "</div>"
      ],
      "text/plain": [
       "          origin destination   departureDateTime     arrivalDateTime  price\n",
       "journeyId                                                                  \n",
       "19903121     NYC          DC 2022-12-31 18:00:00 2022-12-31 22:30:00    1.0\n",
       "19903505     NYC          DC 2022-12-31 21:30:00 2023-01-01 01:50:00    1.0\n",
       "19899024     NYC          DC 2023-01-09 06:00:00 2023-01-09 10:20:00    1.0"
      ]
     },
     "execution_count": 79,
     "metadata": {},
     "output_type": "execute_result"
    }
   ],
   "source": [
    "df[df.price < 10]"
   ]
  },
  {
   "cell_type": "markdown",
   "metadata": {},
   "source": [
    "### Fares Distribution"
   ]
  },
  {
   "cell_type": "code",
   "execution_count": 80,
   "metadata": {},
   "outputs": [
    {
     "data": {
      "image/png": "[encoded data removed]",
      "text/plain": [
       "<Figure size 1440x360 with 2 Axes>"
      ]
     },
     "metadata": {
      "needs_background": "light"
     },
     "output_type": "display_data"
    }
   ],
   "source": [
    "import matplotlib.pyplot as plt\n",
    "\n",
    "df.hist(column='price', by='origin', width=5, grid=True, sharex= True, sharey=True, density=True, figsize=(20, 5));\n",
    "plt.suptitle('Density Plots of Prices from Origin City');"
   ]
  }
 ],
 "metadata": {
  "kernelspec": {
   "display_name": "Python 3.8.10 64-bit",
   "language": "python",
   "name": "python3"
  },
  "language_info": {
   "codemirror_mode": {
    "name": "ipython",
    "version": 3
   },
   "file_extension": ".py",
   "mimetype": "text/x-python",
   "name": "python",
   "nbconvert_exporter": "python",
   "pygments_lexer": "ipython3",
   "version": "3.8.10"
  },
  "vscode": {
   "interpreter": {
    "hash": "31f2aee4e71d21fbe5cf8b01ff0e069b9275f58929596ceb00d14d90e3e16cd6"
   }
  }
 },
 "nbformat": 4,
 "nbformat_minor": 4
}
